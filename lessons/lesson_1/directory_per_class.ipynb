{
 "cells": [
  {
   "cell_type": "code",
   "execution_count": 8,
   "metadata": {
    "collapsed": true
   },
   "outputs": [],
   "source": [
    "import shutil\n",
    "import os\n",
    "from glob import glob"
   ]
  },
  {
   "cell_type": "code",
   "execution_count": 74,
   "metadata": {
    "collapsed": true
   },
   "outputs": [],
   "source": [
    "directory = os.getcwd()\n",
    "directory += '/data/redux_dogscats/train/'"
   ]
  },
  {
   "cell_type": "code",
   "execution_count": 72,
   "metadata": {
    "collapsed": false
   },
   "outputs": [],
   "source": [
    "for fpath in os.listdir(directory):\n",
    "    if not os.path.isfile(directory + fpath):\n",
    "        continue\n",
    "    c = fpath.split('.')[0]\n",
    "    destination = directory + c + '/'\n",
    "    if not os.path.isdir(destination):\n",
    "        os.makedirs(destination)\n",
    "    shutil.move(directory + fpath, destination + fpath)"
   ]
  },
  {
   "cell_type": "code",
   "execution_count": 75,
   "metadata": {
    "collapsed": false
   },
   "outputs": [
    {
     "data": {
      "text/plain": [
       "['cat', 'dog']"
      ]
     },
     "execution_count": 75,
     "metadata": {},
     "output_type": "execute_result"
    }
   ],
   "source": [
    "os.listdir(directory)"
   ]
  },
  {
   "cell_type": "code",
   "execution_count": 91,
   "metadata": {
    "collapsed": false
   },
   "outputs": [],
   "source": [
    "validation = os.getcwd()\n",
    "validation += '/data/redux_dogscats/valid/'\n",
    "import numpy as np\n",
    "percent_train = .9\n",
    "for class_dir in os.listdir(directory):\n",
    "    if os.path.isfile(directory + class_dir):\n",
    "        raise Exception\n",
    "    class_files = np.array(os.listdir(directory + class_dir))\n",
    "    np.random.shuffle(class_files)\n",
    "    split = int(len(class_files) * percent_train)\n",
    "    validation_files = class_files[split:]\n",
    "    for validation_file in validation_files:\n",
    "        destination = validation + class_dir\n",
    "        if not os.path.isdir(destination):\n",
    "            os.makedirs(destination)\n",
    "        shutil.move(directory + class_dir + '/' + validation_file,  destination + '/' + validation_file)"
   ]
  },
  {
   "cell_type": "code",
   "execution_count": 90,
   "metadata": {
    "collapsed": false
   },
   "outputs": [
    {
     "data": {
      "text/plain": [
       "'/home/ubuntu/courses/deeplearning1/nbs/lesson_1/data/redux_dogscats/valid/cat'"
      ]
     },
     "execution_count": 90,
     "metadata": {},
     "output_type": "execute_result"
    }
   ],
   "source": []
  }
 ],
 "metadata": {
  "anaconda-cloud": {},
  "kernelspec": {
   "display_name": "Python [conda root]",
   "language": "python",
   "name": "conda-root-py"
  },
  "language_info": {
   "codemirror_mode": {
    "name": "ipython",
    "version": 2
   },
   "file_extension": ".py",
   "mimetype": "text/x-python",
   "name": "python",
   "nbconvert_exporter": "python",
   "pygments_lexer": "ipython2",
   "version": "2.7.12"
  }
 },
 "nbformat": 4,
 "nbformat_minor": 1
}

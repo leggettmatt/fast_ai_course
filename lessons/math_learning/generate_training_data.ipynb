{
 "cells": [
  {
   "cell_type": "code",
   "execution_count": null,
   "metadata": {
    "collapsed": true
   },
   "outputs": [],
   "source": [
    "from matplotlib import pyplot as plt\n",
    "import numpy as np\n",
    "import os\n",
    "np.random.seed(7)"
   ]
  },
  {
   "cell_type": "code",
   "execution_count": null,
   "metadata": {
    "collapsed": false
   },
   "outputs": [],
   "source": [
    "#!pip install pillow"
   ]
  },
  {
   "cell_type": "markdown",
   "metadata": {},
   "source": [
    "First train on numbers from 1-100"
   ]
  },
  {
   "cell_type": "code",
   "execution_count": null,
   "metadata": {
    "collapsed": false
   },
   "outputs": [],
   "source": [
    "!rm -rf ../../data/math_learning/raw_numbers/\n",
    "!mkdir ../../data/math_learning/raw_numbers/\n",
    "!mkdir ../../data/math_learning/raw_numbers/train/\n",
    "!mkdir ../../data/math_learning/raw_numbers/validate/"
   ]
  },
  {
   "cell_type": "code",
   "execution_count": null,
   "metadata": {
    "collapsed": false
   },
   "outputs": [],
   "source": [
    "data_dir = '../../data/math_learning/raw_numbers/'\n",
    "number_of_random_samples = 30\n",
    "percentage_train = .85\n",
    "cut_off = int(percentage_train * number_of_random_samples)\n",
    "for number in range(101):\n",
    "    if number % 10 == 0:\n",
    "        print 'Processed {} samples'.format(number)\n",
    "    for sim_num in range(number_of_random_samples):\n",
    "        type_of_result = 'train/' if sim_num < cut_off else 'validate/'\n",
    "        destination_dir = data_dir + type_of_result + str(number) + '/'\n",
    "        if not os.path.isdir(destination_dir):\n",
    "            os.makedirs(destination_dir)\n",
    "        file_name = destination_dir + '{}.{}.jpg'.format(number, sim_num)\n",
    "        x, y = np.random.rand(2)  \n",
    "        fig = plt.figure(figsize=(3,3))\n",
    "        plt.axis('off')\n",
    "        ax = fig.add_subplot(111)\n",
    "        ax.annotate(str(number), xy=(0, 0), xytext=(x, y), fontsize=20)\n",
    "        plt.savefig(file_name, dpi=1000)\n",
    "        plt.close('all')"
   ]
  },
  {
   "cell_type": "markdown",
   "metadata": {},
   "source": [
    "Then, create images of number + another number and store in the appropriate result file"
   ]
  },
  {
   "cell_type": "code",
   "execution_count": null,
   "metadata": {
    "collapsed": false
   },
   "outputs": [],
   "source": [
    "!rm -rf ../../data/math_learning/computed_numbers/\n",
    "!mkdir ../../data/math_learning/computed_numbers/\n",
    "!mkdir ../../data/math_learning/computed_numbers/train/\n",
    "!mkdir ../../data/math_learning/computed_numbers/validate/"
   ]
  },
  {
   "cell_type": "code",
   "execution_count": null,
   "metadata": {
    "collapsed": false
   },
   "outputs": [],
   "source": [
    "from collections import defaultdict\n",
    "data_dir = '../../data/math_learning/computed_numbers/'\n",
    "number_of_random_samples = 1\n",
    "percentage_train = .85\n",
    "def generate_type(): return 'train/' if np.random.rand(1) < percentage_train else 'validate/'\n",
    "number_combo_to_type_of_result = defaultdict(generate_type)\n",
    "for number in range(101):\n",
    "    for second_number in range(101):\n",
    "        # Ensure that 1+2 and 2+1 end up in the same section\n",
    "        number_combo = ','.join(list({str(number), str(second_number)}))\n",
    "        type_of_result = number_combo_to_type_of_result[number_combo]\n",
    "        summation = number + second_number\n",
    "        destination_dir = data_dir + type_of_result + str(summation) + '/'\n",
    "        if not os.path.isdir(destination_dir):\n",
    "            os.makedirs(destination_dir)\n",
    "        for sim_num in range(number_of_random_samples):\n",
    "            file_name = destination_dir + '{}.{}.jpg'.format(summation, sim_num)\n",
    "            x, y = np.random.rand(2) * .8\n",
    "            fig = plt.figure(figsize=(3,3))\n",
    "            plt.axis('off')\n",
    "            ax = fig.add_subplot(111)\n",
    "            ax.annotate('{}+{}'.format(number, second_number),\n",
    "                        xy=(0, 0), xytext=(x, y), fontsize=20)\n",
    "            plt.savefig(file_name, dpi=1000)\n",
    "            plt.close('all')"
   ]
  }
 ],
 "metadata": {
  "kernelspec": {
   "display_name": "Python 2",
   "language": "python",
   "name": "python2"
  },
  "language_info": {
   "codemirror_mode": {
    "name": "ipython",
    "version": 2
   },
   "file_extension": ".py",
   "mimetype": "text/x-python",
   "name": "python",
   "nbconvert_exporter": "python",
   "pygments_lexer": "ipython2",
   "version": "2.7.10"
  }
 },
 "nbformat": 4,
 "nbformat_minor": 2
}
